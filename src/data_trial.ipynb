{
 "cells": [
  {
   "cell_type": "code",
   "execution_count": 9,
   "metadata": {},
   "outputs": [],
   "source": [
    "import pandas as pd\n",
    "from sklearn.model_selection import train_test_split\n",
    "from sklearn.preprocessing import StandardScaler\n",
    "import matplotlib.pyplot as plt"
   ]
  },
  {
   "cell_type": "code",
   "execution_count": 3,
   "metadata": {},
   "outputs": [],
   "source": [
    "df = pd.read_csv(\"D:/Personal/DevelopmentAnalysis/Development/AI Robotics/Data/FKLACC!.csv\")"
   ]
  },
  {
   "cell_type": "code",
   "execution_count": 4,
   "metadata": {},
   "outputs": [
    {
     "data": {
      "text/html": [
       "<div>\n",
       "<style scoped>\n",
       "    .dataframe tbody tr th:only-of-type {\n",
       "        vertical-align: middle;\n",
       "    }\n",
       "\n",
       "    .dataframe tbody tr th {\n",
       "        vertical-align: top;\n",
       "    }\n",
       "\n",
       "    .dataframe thead th {\n",
       "        text-align: right;\n",
       "    }\n",
       "</style>\n",
       "<table border=\"1\" class=\"dataframe\">\n",
       "  <thead>\n",
       "    <tr style=\"text-align: right;\">\n",
       "      <th></th>\n",
       "      <th>Acceleration</th>\n",
       "      <th>X</th>\n",
       "      <th>Y</th>\n",
       "      <th>Z</th>\n",
       "    </tr>\n",
       "  </thead>\n",
       "  <tbody>\n",
       "    <tr>\n",
       "      <th>0</th>\n",
       "      <td>2022656686000</td>\n",
       "      <td>0.651223</td>\n",
       "      <td>-9.567230</td>\n",
       "      <td>-1.235408</td>\n",
       "    </tr>\n",
       "    <tr>\n",
       "      <th>1</th>\n",
       "      <td>2022856931000</td>\n",
       "      <td>0.593762</td>\n",
       "      <td>-9.605537</td>\n",
       "      <td>-1.110910</td>\n",
       "    </tr>\n",
       "    <tr>\n",
       "      <th>2</th>\n",
       "      <td>2023057822000</td>\n",
       "      <td>0.584185</td>\n",
       "      <td>-9.586384</td>\n",
       "      <td>-0.976834</td>\n",
       "    </tr>\n",
       "    <tr>\n",
       "      <th>3</th>\n",
       "      <td>2023257045000</td>\n",
       "      <td>0.737414</td>\n",
       "      <td>-9.662998</td>\n",
       "      <td>-0.794875</td>\n",
       "    </tr>\n",
       "    <tr>\n",
       "      <th>4</th>\n",
       "      <td>2023457189000</td>\n",
       "      <td>0.383072</td>\n",
       "      <td>-9.643845</td>\n",
       "      <td>-1.120486</td>\n",
       "    </tr>\n",
       "    <tr>\n",
       "      <th>...</th>\n",
       "      <td>...</td>\n",
       "      <td>...</td>\n",
       "      <td>...</td>\n",
       "      <td>...</td>\n",
       "    </tr>\n",
       "    <tr>\n",
       "      <th>807</th>\n",
       "      <td>2032507760000</td>\n",
       "      <td>4.481946</td>\n",
       "      <td>-1.292869</td>\n",
       "      <td>8.446744</td>\n",
       "    </tr>\n",
       "    <tr>\n",
       "      <th>808</th>\n",
       "      <td>2032518383000</td>\n",
       "      <td>4.491522</td>\n",
       "      <td>-1.312023</td>\n",
       "      <td>8.398860</td>\n",
       "    </tr>\n",
       "    <tr>\n",
       "      <th>809</th>\n",
       "      <td>2032530502000</td>\n",
       "      <td>4.539406</td>\n",
       "      <td>-1.331176</td>\n",
       "      <td>8.389283</td>\n",
       "    </tr>\n",
       "    <tr>\n",
       "      <th>810</th>\n",
       "      <td>2032542960000</td>\n",
       "      <td>4.491522</td>\n",
       "      <td>-1.340753</td>\n",
       "      <td>8.408437</td>\n",
       "    </tr>\n",
       "    <tr>\n",
       "      <th>811</th>\n",
       "      <td>2032552822000</td>\n",
       "      <td>4.481946</td>\n",
       "      <td>-1.369483</td>\n",
       "      <td>8.437167</td>\n",
       "    </tr>\n",
       "  </tbody>\n",
       "</table>\n",
       "<p>812 rows × 4 columns</p>\n",
       "</div>"
      ],
      "text/plain": [
       "      Acceleration         X         Y         Z\n",
       "0    2022656686000  0.651223 -9.567230 -1.235408\n",
       "1    2022856931000  0.593762 -9.605537 -1.110910\n",
       "2    2023057822000  0.584185 -9.586384 -0.976834\n",
       "3    2023257045000  0.737414 -9.662998 -0.794875\n",
       "4    2023457189000  0.383072 -9.643845 -1.120486\n",
       "..             ...       ...       ...       ...\n",
       "807  2032507760000  4.481946 -1.292869  8.446744\n",
       "808  2032518383000  4.491522 -1.312023  8.398860\n",
       "809  2032530502000  4.539406 -1.331176  8.389283\n",
       "810  2032542960000  4.491522 -1.340753  8.408437\n",
       "811  2032552822000  4.481946 -1.369483  8.437167\n",
       "\n",
       "[812 rows x 4 columns]"
      ]
     },
     "execution_count": 4,
     "metadata": {},
     "output_type": "execute_result"
    }
   ],
   "source": [
    "df"
   ]
  },
  {
   "cell_type": "code",
   "execution_count": 7,
   "metadata": {},
   "outputs": [
    {
     "data": {
      "text/html": [
       "<div>\n",
       "<style scoped>\n",
       "    .dataframe tbody tr th:only-of-type {\n",
       "        vertical-align: middle;\n",
       "    }\n",
       "\n",
       "    .dataframe tbody tr th {\n",
       "        vertical-align: top;\n",
       "    }\n",
       "\n",
       "    .dataframe thead th {\n",
       "        text-align: right;\n",
       "    }\n",
       "</style>\n",
       "<table border=\"1\" class=\"dataframe\">\n",
       "  <thead>\n",
       "    <tr style=\"text-align: right;\">\n",
       "      <th></th>\n",
       "      <th>Acceleration</th>\n",
       "      <th>X</th>\n",
       "      <th>Y</th>\n",
       "      <th>Z</th>\n",
       "    </tr>\n",
       "  </thead>\n",
       "  <tbody>\n",
       "    <tr>\n",
       "      <th>0</th>\n",
       "      <td>2022656686000</td>\n",
       "      <td>0.651223</td>\n",
       "      <td>-9.567230</td>\n",
       "      <td>-1.235408</td>\n",
       "    </tr>\n",
       "    <tr>\n",
       "      <th>1</th>\n",
       "      <td>2022856931000</td>\n",
       "      <td>0.593762</td>\n",
       "      <td>-9.605537</td>\n",
       "      <td>-1.110910</td>\n",
       "    </tr>\n",
       "    <tr>\n",
       "      <th>2</th>\n",
       "      <td>2023057822000</td>\n",
       "      <td>0.584185</td>\n",
       "      <td>-9.586384</td>\n",
       "      <td>-0.976834</td>\n",
       "    </tr>\n",
       "    <tr>\n",
       "      <th>3</th>\n",
       "      <td>2023257045000</td>\n",
       "      <td>0.737414</td>\n",
       "      <td>-9.662998</td>\n",
       "      <td>-0.794875</td>\n",
       "    </tr>\n",
       "    <tr>\n",
       "      <th>4</th>\n",
       "      <td>2023457189000</td>\n",
       "      <td>0.383072</td>\n",
       "      <td>-9.643845</td>\n",
       "      <td>-1.120486</td>\n",
       "    </tr>\n",
       "  </tbody>\n",
       "</table>\n",
       "</div>"
      ],
      "text/plain": [
       "    Acceleration         X         Y         Z\n",
       "0  2022656686000  0.651223 -9.567230 -1.235408\n",
       "1  2022856931000  0.593762 -9.605537 -1.110910\n",
       "2  2023057822000  0.584185 -9.586384 -0.976834\n",
       "3  2023257045000  0.737414 -9.662998 -0.794875\n",
       "4  2023457189000  0.383072 -9.643845 -1.120486"
      ]
     },
     "execution_count": 7,
     "metadata": {},
     "output_type": "execute_result"
    }
   ],
   "source": [
    "df.head()"
   ]
  },
  {
   "cell_type": "code",
   "execution_count": 12,
   "metadata": {},
   "outputs": [],
   "source": [
    "data = {\n",
    "    'Acceleration': [2022656686000, 2022856931000, 2023057822000, 2023257045000, 2023457189000, 2032507760000, 2032518383000, 2032530502000, 2032542960000, 2032552822000],\n",
    "    'X': [0.651223, 0.593762, 0.584185, 0.737414, 0.383072, 4.481946, 4.491522, 4.539406, 4.491522, 4.481946],\n",
    "    'Y': [-9.567230, -9.605537, -9.586384, -9.662998, -9.643845, -1.292869, -1.312023, -1.331176, -1.340753, -1.369483],\n",
    "    'Z': [-1.235408, -1.110910, -0.976834, -0.794875, -1.120486, 8.446744, 8.398860, 8.389283, 8.408437, 8.437167]\n",
    "}"
   ]
  },
  {
   "cell_type": "code",
   "execution_count": 13,
   "metadata": {},
   "outputs": [
    {
     "data": {
      "image/png": "[encoded data removed]",
      "text/plain": [
       "<Figure size 1200x600 with 1 Axes>"
      ]
     },
     "metadata": {},
     "output_type": "display_data"
    }
   ],
   "source": [
    "df = pd.DataFrame(data)\n",
    "\n",
    "# Convert 'Acceleration' to datetime\n",
    "df['Timestamp'] = pd.to_datetime(df['Acceleration'], unit='ns')\n",
    "\n",
    "# Plotting the data\n",
    "plt.figure(figsize=(12, 6))\n",
    "plt.plot(df['Timestamp'], df['X'], label='X')\n",
    "plt.plot(df['Timestamp'], df['Y'], label='Y')\n",
    "plt.plot(df['Timestamp'], df['Z'], label='Z')\n",
    "plt.xlabel('Time')\n",
    "plt.ylabel('Acceleration')\n",
    "plt.legend()\n",
    "plt.title('Accelerometer Data')\n",
    "plt.show()"
   ]
  },
  {
   "cell_type": "code",
   "execution_count": null,
   "metadata": {},
   "outputs": [],
   "source": [
    "X_train, X_test, y_train, y_test = train_test_split(X, y, test_size=0.2, random_state=42)"
   ]
  },
  {
   "cell_type": "code",
   "execution_count": null,
   "metadata": {},
   "outputs": [],
   "source": [
    "scaler = StandardScaler()\n",
    "X_train_scaled = scaler.fit_transform(X_train)\n",
    "X_test_scaled = scaler.transform(X_test)"
   ]
  }
 ],
 "metadata": {
  "kernelspec": {
   "display_name": "Python 3",
   "language": "python",
   "name": "python3"
  },
  "language_info": {
   "codemirror_mode": {
    "name": "ipython",
    "version": 3
   },
   "file_extension": ".py",
   "mimetype": "text/x-python",
   "name": "python",
   "nbconvert_exporter": "python",
   "pygments_lexer": "ipython3",
   "version": "3.12.5"
  }
 },
 "nbformat": 4,
 "nbformat_minor": 2
}
